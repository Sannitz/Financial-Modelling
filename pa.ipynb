{
 "cells": [
  {
   "cell_type": "code",
   "execution_count": 74,
   "metadata": {},
   "outputs": [],
   "source": [
    "import pandas as pd\n",
    "import numpy as np"
   ]
  },
  {
   "cell_type": "code",
   "execution_count": 109,
   "metadata": {},
   "outputs": [],
   "source": [
    "bogey = [0.45, 0.55]\n",
    "benchmark_weights = np.array(bogey) "
   ]
  },
  {
   "cell_type": "code",
   "execution_count": 110,
   "metadata": {},
   "outputs": [],
   "source": [
    "weights = {\n",
    "    'ch': 0.13324,\n",
    "    'DBC.US': 0.18868,\n",
    "    'it': 0.1084,\n",
    "    'SHEL': 0.11132,\n",
    "    'CSSMI.SW': 0.247,\n",
    "    'WMT': 0.21136\n",
    "}\n",
    "\n",
    "weights['rf'] = 1.0\n",
    "\n",
    "AA = {\n",
    "    'DBC.US': 'Equity', \n",
    "    'WMT': 'Equity', \n",
    "    'SHEL': 'Equity', \n",
    "    'CSSMI.SW': 'Equity', \n",
    "    'ch': 'Bonds',\n",
    "    'it': 'Bonds',\n",
    "    'rf': 'Bonds'\n",
    "}\n",
    "\n",
    "SAA = {\n",
    "    'Equity': 0,\n",
    "    'Bonds': 0\n",
    "}\n",
    "\n",
    "for i in AA:\n",
    "    SAA[AA[i]] += weights[i] / 2\n",
    "\n",
    "portfolio_weights = np.array(list(SAA.values()))"
   ]
  },
  {
   "cell_type": "code",
   "execution_count": 111,
   "metadata": {},
   "outputs": [
    {
     "data": {
      "text/plain": [
       "[0.45, 0.55]"
      ]
     },
     "execution_count": 111,
     "metadata": {},
     "output_type": "execute_result"
    }
   ],
   "source": [
    "bogey"
   ]
  },
  {
   "cell_type": "code",
   "execution_count": 112,
   "metadata": {},
   "outputs": [
    {
     "data": {
      "text/plain": [
       "array([0.37918, 0.62082])"
      ]
     },
     "execution_count": 112,
     "metadata": {},
     "output_type": "execute_result"
    }
   ],
   "source": [
    "portfolio_weights"
   ]
  },
  {
   "cell_type": "code",
   "execution_count": 141,
   "metadata": {},
   "outputs": [],
   "source": [
    "df = pd.read_csv('port_attr_analysis.csv', index_col='date', parse_dates=True).loc['2022-11-07':]\n",
    "p_ret = (1+df).cumprod()"
   ]
  },
  {
   "cell_type": "code",
   "execution_count": 142,
   "metadata": {},
   "outputs": [],
   "source": [
    "returns = {\n",
    "    'Equity': 0,\n",
    "    'Bonds': 0\n",
    "}\n",
    "\n",
    "for i in AA:\n",
    "    returns[AA[i]] += (p_ret[i].iloc[-1] - p_ret[i].iloc[0]) * weights[i]"
   ]
  },
  {
   "cell_type": "code",
   "execution_count": 143,
   "metadata": {},
   "outputs": [
    {
     "data": {
      "text/plain": [
       "{'Equity': 0.006404040757785549, 'Bonds': 0.042370179625432644}"
      ]
     },
     "execution_count": 143,
     "metadata": {},
     "output_type": "execute_result"
    }
   ],
   "source": [
    "returns"
   ]
  },
  {
   "cell_type": "code",
   "execution_count": 144,
   "metadata": {},
   "outputs": [
    {
     "data": {
      "text/plain": [
       "0.0025471219546067667"
      ]
     },
     "execution_count": 144,
     "metadata": {},
     "output_type": "execute_result"
    }
   ],
   "source": [
    "np.dot((portfolio_weights - benchmark_weights), np.array(list(returns.values())))"
   ]
  },
  {
   "cell_type": "code",
   "execution_count": 147,
   "metadata": {},
   "outputs": [],
   "source": [
    "port_return = pd.DataFrame(returns.values(), returns.keys()) * pd.DataFrame(portfolio_weights, returns.keys()) \n",
    "bench_return = pd.DataFrame(returns.values(), returns.keys()) * pd.DataFrame(benchmark_weights, returns.keys()) "
   ]
  },
  {
   "cell_type": "code",
   "execution_count": 148,
   "metadata": {},
   "outputs": [
    {
     "data": {
      "text/plain": [
       "array([[0.0016909]])"
      ]
     },
     "execution_count": 148,
     "metadata": {},
     "output_type": "execute_result"
    }
   ],
   "source": [
    "np.dot((port_return - bench_return).T, pd.DataFrame(portfolio_weights, returns.keys()))"
   ]
  },
  {
   "cell_type": "code",
   "execution_count": 117,
   "metadata": {},
   "outputs": [],
   "source": [
    "asset_classes = {\n",
    "    'CSSMI.SW': 'Equity',\n",
    "    'DBC.US': 'Commodities',\n",
    "    'WMT': 'Equity',\n",
    "    'SHEL': 'Commodities',\n",
    "    'it': 'FI',\n",
    "    'ch': 'FI',\n",
    "    'rf': 'FI'\n",
    "}"
   ]
  },
  {
   "cell_type": "code",
   "execution_count": null,
   "metadata": {},
   "outputs": [],
   "source": []
  }
 ],
 "metadata": {
  "kernelspec": {
   "display_name": "Python 3.8.5 ('base')",
   "language": "python",
   "name": "python3"
  },
  "language_info": {
   "codemirror_mode": {
    "name": "ipython",
    "version": 3
   },
   "file_extension": ".py",
   "mimetype": "text/x-python",
   "name": "python",
   "nbconvert_exporter": "python",
   "pygments_lexer": "ipython3",
   "version": "3.8.5"
  },
  "orig_nbformat": 4,
  "vscode": {
   "interpreter": {
    "hash": "58129760e21edc5bf8eb49a23485ae7971d19d64a184fa957b0d732a36ad2bf9"
   }
  }
 },
 "nbformat": 4,
 "nbformat_minor": 2
}
