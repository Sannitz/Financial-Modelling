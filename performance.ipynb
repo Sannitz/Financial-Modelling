{
 "cells": [
  {
   "cell_type": "markdown",
   "metadata": {},
   "source": [
    "# Portfolio Performance"
   ]
  },
  {
   "cell_type": "code",
   "execution_count": 119,
   "metadata": {},
   "outputs": [
    {
     "name": "stdout",
     "output_type": "stream",
     "text": [
      "The autoreload extension is already loaded. To reload it, use:\n",
      "  %reload_ext autoreload\n"
     ]
    }
   ],
   "source": [
    "import pandas as pd\n",
    "import numpy as np\n",
    "import matplotlib.ticker as mtick\n",
    "import matplotlib.pyplot as plt\n",
    "import utils as u\n",
    "import ffn\n",
    "\n",
    "%load_ext autoreload\n",
    "%autoreload 2"
   ]
  },
  {
   "cell_type": "code",
   "execution_count": 300,
   "metadata": {},
   "outputs": [],
   "source": [
    "start = '2022-11-07'\n",
    "end = '2022-11-19'"
   ]
  },
  {
   "cell_type": "code",
   "execution_count": 201,
   "metadata": {},
   "outputs": [],
   "source": [
    "df = u.get_updated_data()\n",
    "df = pd.merge(df, u.get_bloomberg_data(False), how='left', left_index=True, right_index=True)\n",
    "df = u.add_fx(df)\n",
    "df.sort_index(ascending=True, inplace=True)"
   ]
  },
  {
   "cell_type": "code",
   "execution_count": 62,
   "metadata": {},
   "outputs": [],
   "source": [
    "# df_b = u.get_bloomberg_data(True)"
   ]
  },
  {
   "cell_type": "code",
   "execution_count": 92,
   "metadata": {},
   "outputs": [],
   "source": [
    "weights = {\n",
    "    'ch': 0.13324,\n",
    "    'DBC.US': 0.18868,\n",
    "    'it': 0.1084,\n",
    "    'SHEL': 0.11132,\n",
    "    'CSSMI.SW': 0.247,\n",
    "    'WMT': 0.21136\n",
    "}"
   ]
  },
  {
   "cell_type": "code",
   "execution_count": 203,
   "metadata": {},
   "outputs": [],
   "source": [
    "c_ret = u.create_portfolio_returns(df, weights)\n",
    "c_ret = pd.merge(c_ret, df.pct_change(), how='left', left_index=True, right_index=True)"
   ]
  },
  {
   "cell_type": "code",
   "execution_count": 290,
   "metadata": {},
   "outputs": [
    {
     "data": {
      "text/html": [
       "<div>\n",
       "<style scoped>\n",
       "    .dataframe tbody tr th:only-of-type {\n",
       "        vertical-align: middle;\n",
       "    }\n",
       "\n",
       "    .dataframe tbody tr th {\n",
       "        vertical-align: top;\n",
       "    }\n",
       "\n",
       "    .dataframe thead th {\n",
       "        text-align: right;\n",
       "    }\n",
       "</style>\n",
       "<table border=\"1\" class=\"dataframe\">\n",
       "  <thead>\n",
       "    <tr style=\"text-align: right;\">\n",
       "      <th></th>\n",
       "      <th>Portfolio</th>\n",
       "      <th>Risky Portfolio</th>\n",
       "      <th>DBC.US</th>\n",
       "      <th>SHEL</th>\n",
       "      <th>CSSMI.SW</th>\n",
       "      <th>WMT</th>\n",
       "      <th>ch</th>\n",
       "      <th>it</th>\n",
       "      <th>rf</th>\n",
       "      <th>EUR</th>\n",
       "      <th>CHF</th>\n",
       "      <th>spy</th>\n",
       "      <th>SPY</th>\n",
       "    </tr>\n",
       "    <tr>\n",
       "      <th>date</th>\n",
       "      <th></th>\n",
       "      <th></th>\n",
       "      <th></th>\n",
       "      <th></th>\n",
       "      <th></th>\n",
       "      <th></th>\n",
       "      <th></th>\n",
       "      <th></th>\n",
       "      <th></th>\n",
       "      <th></th>\n",
       "      <th></th>\n",
       "      <th></th>\n",
       "      <th></th>\n",
       "    </tr>\n",
       "  </thead>\n",
       "  <tbody>\n",
       "    <tr>\n",
       "      <th>2010-01-05</th>\n",
       "      <td>-0.002206</td>\n",
       "      <td>-0.004598</td>\n",
       "      <td>0.001189</td>\n",
       "      <td>0.001121</td>\n",
       "      <td>-0.004690</td>\n",
       "      <td>-0.009958</td>\n",
       "      <td>NaN</td>\n",
       "      <td>NaN</td>\n",
       "      <td>NaN</td>\n",
       "      <td>-0.003053</td>\n",
       "      <td>-0.003605</td>\n",
       "      <td>0.002647</td>\n",
       "      <td>0.002647</td>\n",
       "    </tr>\n",
       "    <tr>\n",
       "      <th>2010-01-06</th>\n",
       "      <td>0.002060</td>\n",
       "      <td>0.003934</td>\n",
       "      <td>0.017808</td>\n",
       "      <td>-0.008169</td>\n",
       "      <td>-0.002888</td>\n",
       "      <td>-0.002233</td>\n",
       "      <td>NaN</td>\n",
       "      <td>NaN</td>\n",
       "      <td>NaN</td>\n",
       "      <td>0.003062</td>\n",
       "      <td>0.006099</td>\n",
       "      <td>0.000704</td>\n",
       "      <td>0.000704</td>\n",
       "    </tr>\n",
       "    <tr>\n",
       "      <th>2010-01-07</th>\n",
       "      <td>-0.002700</td>\n",
       "      <td>-0.005584</td>\n",
       "      <td>-0.012442</td>\n",
       "      <td>-0.004846</td>\n",
       "      <td>0.000914</td>\n",
       "      <td>0.000560</td>\n",
       "      <td>NaN</td>\n",
       "      <td>NaN</td>\n",
       "      <td>NaN</td>\n",
       "      <td>-0.006591</td>\n",
       "      <td>-0.006165</td>\n",
       "      <td>0.004221</td>\n",
       "      <td>0.004221</td>\n",
       "    </tr>\n",
       "    <tr>\n",
       "      <th>2010-01-08</th>\n",
       "      <td>0.002678</td>\n",
       "      <td>0.005171</td>\n",
       "      <td>-0.000787</td>\n",
       "      <td>-0.001462</td>\n",
       "      <td>0.007767</td>\n",
       "      <td>-0.005039</td>\n",
       "      <td>NaN</td>\n",
       "      <td>NaN</td>\n",
       "      <td>NaN</td>\n",
       "      <td>0.006635</td>\n",
       "      <td>0.010236</td>\n",
       "      <td>0.003328</td>\n",
       "      <td>0.003328</td>\n",
       "    </tr>\n",
       "    <tr>\n",
       "      <th>2010-01-11</th>\n",
       "      <td>0.003970</td>\n",
       "      <td>0.007755</td>\n",
       "      <td>-0.003152</td>\n",
       "      <td>0.015604</td>\n",
       "      <td>-0.001209</td>\n",
       "      <td>0.016501</td>\n",
       "      <td>NaN</td>\n",
       "      <td>NaN</td>\n",
       "      <td>NaN</td>\n",
       "      <td>0.007008</td>\n",
       "      <td>0.006959</td>\n",
       "      <td>0.001397</td>\n",
       "      <td>0.001397</td>\n",
       "    </tr>\n",
       "    <tr>\n",
       "      <th>...</th>\n",
       "      <td>...</td>\n",
       "      <td>...</td>\n",
       "      <td>...</td>\n",
       "      <td>...</td>\n",
       "      <td>...</td>\n",
       "      <td>...</td>\n",
       "      <td>...</td>\n",
       "      <td>...</td>\n",
       "      <td>...</td>\n",
       "      <td>...</td>\n",
       "      <td>...</td>\n",
       "      <td>...</td>\n",
       "      <td>...</td>\n",
       "    </tr>\n",
       "    <tr>\n",
       "      <th>2022-11-14</th>\n",
       "      <td>-0.002756</td>\n",
       "      <td>-0.005697</td>\n",
       "      <td>-0.014914</td>\n",
       "      <td>-0.019903</td>\n",
       "      <td>-0.010413</td>\n",
       "      <td>-0.029387</td>\n",
       "      <td>0.0</td>\n",
       "      <td>0.0</td>\n",
       "      <td>0.0</td>\n",
       "      <td>-0.002801</td>\n",
       "      <td>0.022096</td>\n",
       "      <td>-0.008507</td>\n",
       "      <td>-0.008507</td>\n",
       "    </tr>\n",
       "    <tr>\n",
       "      <th>2022-11-15</th>\n",
       "      <td>0.010454</td>\n",
       "      <td>0.020724</td>\n",
       "      <td>0.011646</td>\n",
       "      <td>0.029638</td>\n",
       "      <td>0.003332</td>\n",
       "      <td>0.065395</td>\n",
       "      <td>0.0</td>\n",
       "      <td>0.0</td>\n",
       "      <td>0.0</td>\n",
       "      <td>0.002228</td>\n",
       "      <td>0.000850</td>\n",
       "      <td>0.008529</td>\n",
       "      <td>0.008529</td>\n",
       "    </tr>\n",
       "    <tr>\n",
       "      <th>2022-11-16</th>\n",
       "      <td>-0.001396</td>\n",
       "      <td>-0.002976</td>\n",
       "      <td>-0.011128</td>\n",
       "      <td>-0.008173</td>\n",
       "      <td>-0.008390</td>\n",
       "      <td>0.007189</td>\n",
       "      <td>0.0</td>\n",
       "      <td>0.0</td>\n",
       "      <td>0.0</td>\n",
       "      <td>0.004252</td>\n",
       "      <td>0.000283</td>\n",
       "      <td>-0.007629</td>\n",
       "      <td>-0.007629</td>\n",
       "    </tr>\n",
       "    <tr>\n",
       "      <th>2022-11-17</th>\n",
       "      <td>-0.001677</td>\n",
       "      <td>-0.003539</td>\n",
       "      <td>-0.016686</td>\n",
       "      <td>0.015586</td>\n",
       "      <td>-0.002292</td>\n",
       "      <td>-0.003367</td>\n",
       "      <td>0.0</td>\n",
       "      <td>0.0</td>\n",
       "      <td>0.0</td>\n",
       "      <td>-0.002694</td>\n",
       "      <td>-0.001509</td>\n",
       "      <td>-0.003060</td>\n",
       "      <td>-0.003060</td>\n",
       "    </tr>\n",
       "    <tr>\n",
       "      <th>2022-11-18</th>\n",
       "      <td>-0.000003</td>\n",
       "      <td>-0.000191</td>\n",
       "      <td>-0.007103</td>\n",
       "      <td>-0.013230</td>\n",
       "      <td>0.012721</td>\n",
       "      <td>0.015068</td>\n",
       "      <td>0.0</td>\n",
       "      <td>0.0</td>\n",
       "      <td>0.0</td>\n",
       "      <td>-0.003860</td>\n",
       "      <td>-0.008688</td>\n",
       "      <td>0.004540</td>\n",
       "      <td>0.004540</td>\n",
       "    </tr>\n",
       "  </tbody>\n",
       "</table>\n",
       "<p>3243 rows × 13 columns</p>\n",
       "</div>"
      ],
      "text/plain": [
       "            Portfolio  Risky Portfolio    DBC.US      SHEL  CSSMI.SW  \\\n",
       "date                                                                   \n",
       "2010-01-05  -0.002206        -0.004598  0.001189  0.001121 -0.004690   \n",
       "2010-01-06   0.002060         0.003934  0.017808 -0.008169 -0.002888   \n",
       "2010-01-07  -0.002700        -0.005584 -0.012442 -0.004846  0.000914   \n",
       "2010-01-08   0.002678         0.005171 -0.000787 -0.001462  0.007767   \n",
       "2010-01-11   0.003970         0.007755 -0.003152  0.015604 -0.001209   \n",
       "...               ...              ...       ...       ...       ...   \n",
       "2022-11-14  -0.002756        -0.005697 -0.014914 -0.019903 -0.010413   \n",
       "2022-11-15   0.010454         0.020724  0.011646  0.029638  0.003332   \n",
       "2022-11-16  -0.001396        -0.002976 -0.011128 -0.008173 -0.008390   \n",
       "2022-11-17  -0.001677        -0.003539 -0.016686  0.015586 -0.002292   \n",
       "2022-11-18  -0.000003        -0.000191 -0.007103 -0.013230  0.012721   \n",
       "\n",
       "                 WMT   ch   it   rf       EUR       CHF       spy       SPY  \n",
       "date                                                                         \n",
       "2010-01-05 -0.009958  NaN  NaN  NaN -0.003053 -0.003605  0.002647  0.002647  \n",
       "2010-01-06 -0.002233  NaN  NaN  NaN  0.003062  0.006099  0.000704  0.000704  \n",
       "2010-01-07  0.000560  NaN  NaN  NaN -0.006591 -0.006165  0.004221  0.004221  \n",
       "2010-01-08 -0.005039  NaN  NaN  NaN  0.006635  0.010236  0.003328  0.003328  \n",
       "2010-01-11  0.016501  NaN  NaN  NaN  0.007008  0.006959  0.001397  0.001397  \n",
       "...              ...  ...  ...  ...       ...       ...       ...       ...  \n",
       "2022-11-14 -0.029387  0.0  0.0  0.0 -0.002801  0.022096 -0.008507 -0.008507  \n",
       "2022-11-15  0.065395  0.0  0.0  0.0  0.002228  0.000850  0.008529  0.008529  \n",
       "2022-11-16  0.007189  0.0  0.0  0.0  0.004252  0.000283 -0.007629 -0.007629  \n",
       "2022-11-17 -0.003367  0.0  0.0  0.0 -0.002694 -0.001509 -0.003060 -0.003060  \n",
       "2022-11-18  0.015068  0.0  0.0  0.0 -0.003860 -0.008688  0.004540  0.004540  \n",
       "\n",
       "[3243 rows x 13 columns]"
      ]
     },
     "execution_count": 290,
     "metadata": {},
     "output_type": "execute_result"
    }
   ],
   "source": [
    "c_ret"
   ]
  },
  {
   "cell_type": "code",
   "execution_count": 294,
   "metadata": {},
   "outputs": [
    {
     "name": "stderr",
     "output_type": "stream",
     "text": [
      "C:\\Users\\gobel\\AppData\\Roaming\\Python\\Python38\\site-packages\\numpy\\core\\fromnumeric.py:57: RuntimeWarning: invalid value encountered in accumulate\n",
      "  return bound(*args, **kwds)\n"
     ]
    },
    {
     "data": {
      "text/html": [
       "<div>\n",
       "<style scoped>\n",
       "    .dataframe tbody tr th:only-of-type {\n",
       "        vertical-align: middle;\n",
       "    }\n",
       "\n",
       "    .dataframe tbody tr th {\n",
       "        vertical-align: top;\n",
       "    }\n",
       "\n",
       "    .dataframe thead th {\n",
       "        text-align: right;\n",
       "    }\n",
       "</style>\n",
       "<table border=\"1\" class=\"dataframe\">\n",
       "  <thead>\n",
       "    <tr style=\"text-align: right;\">\n",
       "      <th></th>\n",
       "      <th>Portfolio</th>\n",
       "      <th>Risky Portfolio</th>\n",
       "      <th>DBC.US</th>\n",
       "      <th>SHEL</th>\n",
       "      <th>CSSMI.SW</th>\n",
       "      <th>WMT</th>\n",
       "      <th>ch</th>\n",
       "      <th>it</th>\n",
       "      <th>rf</th>\n",
       "      <th>EUR</th>\n",
       "      <th>CHF</th>\n",
       "      <th>spy</th>\n",
       "      <th>SPY</th>\n",
       "      <th>SXXPIEX</th>\n",
       "    </tr>\n",
       "    <tr>\n",
       "      <th>date</th>\n",
       "      <th></th>\n",
       "      <th></th>\n",
       "      <th></th>\n",
       "      <th></th>\n",
       "      <th></th>\n",
       "      <th></th>\n",
       "      <th></th>\n",
       "      <th></th>\n",
       "      <th></th>\n",
       "      <th></th>\n",
       "      <th></th>\n",
       "      <th></th>\n",
       "      <th></th>\n",
       "      <th></th>\n",
       "    </tr>\n",
       "  </thead>\n",
       "  <tbody>\n",
       "    <tr>\n",
       "      <th>2010-01-05</th>\n",
       "      <td>0.997794</td>\n",
       "      <td>0.995402</td>\n",
       "      <td>1.001189</td>\n",
       "      <td>1.001121</td>\n",
       "      <td>0.995310</td>\n",
       "      <td>0.990042</td>\n",
       "      <td>NaN</td>\n",
       "      <td>NaN</td>\n",
       "      <td>NaN</td>\n",
       "      <td>0.996947</td>\n",
       "      <td>0.996395</td>\n",
       "      <td>1.002647</td>\n",
       "      <td>1.002647</td>\n",
       "      <td>1.002647</td>\n",
       "    </tr>\n",
       "    <tr>\n",
       "      <th>2010-01-06</th>\n",
       "      <td>0.999849</td>\n",
       "      <td>0.999318</td>\n",
       "      <td>1.019017</td>\n",
       "      <td>0.992943</td>\n",
       "      <td>0.992436</td>\n",
       "      <td>0.987832</td>\n",
       "      <td>NaN</td>\n",
       "      <td>NaN</td>\n",
       "      <td>NaN</td>\n",
       "      <td>1.000000</td>\n",
       "      <td>1.002472</td>\n",
       "      <td>1.003353</td>\n",
       "      <td>1.003353</td>\n",
       "      <td>1.003353</td>\n",
       "    </tr>\n",
       "    <tr>\n",
       "      <th>2010-01-07</th>\n",
       "      <td>0.997150</td>\n",
       "      <td>0.993738</td>\n",
       "      <td>1.006339</td>\n",
       "      <td>0.988132</td>\n",
       "      <td>0.993342</td>\n",
       "      <td>0.988385</td>\n",
       "      <td>NaN</td>\n",
       "      <td>NaN</td>\n",
       "      <td>NaN</td>\n",
       "      <td>0.993409</td>\n",
       "      <td>0.996292</td>\n",
       "      <td>1.007588</td>\n",
       "      <td>1.007588</td>\n",
       "      <td>1.007588</td>\n",
       "    </tr>\n",
       "    <tr>\n",
       "      <th>2010-01-08</th>\n",
       "      <td>0.999820</td>\n",
       "      <td>0.998877</td>\n",
       "      <td>1.005547</td>\n",
       "      <td>0.986687</td>\n",
       "      <td>1.001057</td>\n",
       "      <td>0.983405</td>\n",
       "      <td>NaN</td>\n",
       "      <td>NaN</td>\n",
       "      <td>NaN</td>\n",
       "      <td>1.000000</td>\n",
       "      <td>1.006489</td>\n",
       "      <td>1.010941</td>\n",
       "      <td>1.010941</td>\n",
       "      <td>1.010941</td>\n",
       "    </tr>\n",
       "    <tr>\n",
       "      <th>2010-01-11</th>\n",
       "      <td>1.003789</td>\n",
       "      <td>1.006623</td>\n",
       "      <td>1.002377</td>\n",
       "      <td>1.002083</td>\n",
       "      <td>0.999847</td>\n",
       "      <td>0.999632</td>\n",
       "      <td>NaN</td>\n",
       "      <td>NaN</td>\n",
       "      <td>NaN</td>\n",
       "      <td>1.007008</td>\n",
       "      <td>1.013494</td>\n",
       "      <td>1.012353</td>\n",
       "      <td>1.012353</td>\n",
       "      <td>1.012353</td>\n",
       "    </tr>\n",
       "    <tr>\n",
       "      <th>...</th>\n",
       "      <td>...</td>\n",
       "      <td>...</td>\n",
       "      <td>...</td>\n",
       "      <td>...</td>\n",
       "      <td>...</td>\n",
       "      <td>...</td>\n",
       "      <td>...</td>\n",
       "      <td>...</td>\n",
       "      <td>...</td>\n",
       "      <td>...</td>\n",
       "      <td>...</td>\n",
       "      <td>...</td>\n",
       "      <td>...</td>\n",
       "      <td>...</td>\n",
       "    </tr>\n",
       "    <tr>\n",
       "      <th>2022-11-14</th>\n",
       "      <td>1.970346</td>\n",
       "      <td>2.050273</td>\n",
       "      <td>1.020602</td>\n",
       "      <td>1.638573</td>\n",
       "      <td>2.204575</td>\n",
       "      <td>3.418556</td>\n",
       "      <td>-2.78355</td>\n",
       "      <td>NaN</td>\n",
       "      <td>1.933958</td>\n",
       "      <td>0.716367</td>\n",
       "      <td>1.091162</td>\n",
       "      <td>3.486455</td>\n",
       "      <td>3.486455</td>\n",
       "      <td>3.486455</td>\n",
       "    </tr>\n",
       "    <tr>\n",
       "      <th>2022-11-15</th>\n",
       "      <td>1.990944</td>\n",
       "      <td>2.092763</td>\n",
       "      <td>1.032488</td>\n",
       "      <td>1.687136</td>\n",
       "      <td>2.211921</td>\n",
       "      <td>3.642113</td>\n",
       "      <td>-2.78355</td>\n",
       "      <td>NaN</td>\n",
       "      <td>1.933958</td>\n",
       "      <td>0.717963</td>\n",
       "      <td>1.092089</td>\n",
       "      <td>3.516192</td>\n",
       "      <td>3.516192</td>\n",
       "      <td>3.516192</td>\n",
       "    </tr>\n",
       "    <tr>\n",
       "      <th>2022-11-16</th>\n",
       "      <td>1.988166</td>\n",
       "      <td>2.086534</td>\n",
       "      <td>1.020998</td>\n",
       "      <td>1.673347</td>\n",
       "      <td>2.193362</td>\n",
       "      <td>3.668297</td>\n",
       "      <td>-2.78355</td>\n",
       "      <td>NaN</td>\n",
       "      <td>1.933958</td>\n",
       "      <td>0.721016</td>\n",
       "      <td>1.092398</td>\n",
       "      <td>3.489367</td>\n",
       "      <td>3.489367</td>\n",
       "      <td>3.489367</td>\n",
       "    </tr>\n",
       "    <tr>\n",
       "      <th>2022-11-17</th>\n",
       "      <td>1.984832</td>\n",
       "      <td>2.079150</td>\n",
       "      <td>1.003962</td>\n",
       "      <td>1.699427</td>\n",
       "      <td>2.188336</td>\n",
       "      <td>3.655946</td>\n",
       "      <td>-2.78355</td>\n",
       "      <td>NaN</td>\n",
       "      <td>1.933958</td>\n",
       "      <td>0.719073</td>\n",
       "      <td>1.090750</td>\n",
       "      <td>3.478691</td>\n",
       "      <td>3.478691</td>\n",
       "      <td>3.478691</td>\n",
       "    </tr>\n",
       "    <tr>\n",
       "      <th>2022-11-18</th>\n",
       "      <td>1.984826</td>\n",
       "      <td>2.078753</td>\n",
       "      <td>0.996830</td>\n",
       "      <td>1.676944</td>\n",
       "      <td>2.216174</td>\n",
       "      <td>3.711032</td>\n",
       "      <td>-2.78355</td>\n",
       "      <td>NaN</td>\n",
       "      <td>1.933958</td>\n",
       "      <td>0.716298</td>\n",
       "      <td>1.081273</td>\n",
       "      <td>3.494485</td>\n",
       "      <td>3.494485</td>\n",
       "      <td>3.494485</td>\n",
       "    </tr>\n",
       "  </tbody>\n",
       "</table>\n",
       "<p>3243 rows × 14 columns</p>\n",
       "</div>"
      ],
      "text/plain": [
       "            Portfolio  Risky Portfolio    DBC.US      SHEL  CSSMI.SW  \\\n",
       "date                                                                   \n",
       "2010-01-05   0.997794         0.995402  1.001189  1.001121  0.995310   \n",
       "2010-01-06   0.999849         0.999318  1.019017  0.992943  0.992436   \n",
       "2010-01-07   0.997150         0.993738  1.006339  0.988132  0.993342   \n",
       "2010-01-08   0.999820         0.998877  1.005547  0.986687  1.001057   \n",
       "2010-01-11   1.003789         1.006623  1.002377  1.002083  0.999847   \n",
       "...               ...              ...       ...       ...       ...   \n",
       "2022-11-14   1.970346         2.050273  1.020602  1.638573  2.204575   \n",
       "2022-11-15   1.990944         2.092763  1.032488  1.687136  2.211921   \n",
       "2022-11-16   1.988166         2.086534  1.020998  1.673347  2.193362   \n",
       "2022-11-17   1.984832         2.079150  1.003962  1.699427  2.188336   \n",
       "2022-11-18   1.984826         2.078753  0.996830  1.676944  2.216174   \n",
       "\n",
       "                 WMT       ch  it        rf       EUR       CHF       spy  \\\n",
       "date                                                                        \n",
       "2010-01-05  0.990042      NaN NaN       NaN  0.996947  0.996395  1.002647   \n",
       "2010-01-06  0.987832      NaN NaN       NaN  1.000000  1.002472  1.003353   \n",
       "2010-01-07  0.988385      NaN NaN       NaN  0.993409  0.996292  1.007588   \n",
       "2010-01-08  0.983405      NaN NaN       NaN  1.000000  1.006489  1.010941   \n",
       "2010-01-11  0.999632      NaN NaN       NaN  1.007008  1.013494  1.012353   \n",
       "...              ...      ...  ..       ...       ...       ...       ...   \n",
       "2022-11-14  3.418556 -2.78355 NaN  1.933958  0.716367  1.091162  3.486455   \n",
       "2022-11-15  3.642113 -2.78355 NaN  1.933958  0.717963  1.092089  3.516192   \n",
       "2022-11-16  3.668297 -2.78355 NaN  1.933958  0.721016  1.092398  3.489367   \n",
       "2022-11-17  3.655946 -2.78355 NaN  1.933958  0.719073  1.090750  3.478691   \n",
       "2022-11-18  3.711032 -2.78355 NaN  1.933958  0.716298  1.081273  3.494485   \n",
       "\n",
       "                 SPY   SXXPIEX  \n",
       "date                            \n",
       "2010-01-05  1.002647  1.002647  \n",
       "2010-01-06  1.003353  1.003353  \n",
       "2010-01-07  1.007588  1.007588  \n",
       "2010-01-08  1.010941  1.010941  \n",
       "2010-01-11  1.012353  1.012353  \n",
       "...              ...       ...  \n",
       "2022-11-14  3.486455  3.486455  \n",
       "2022-11-15  3.516192  3.516192  \n",
       "2022-11-16  3.489367  3.489367  \n",
       "2022-11-17  3.478691  3.478691  \n",
       "2022-11-18  3.494485  3.494485  \n",
       "\n",
       "[3243 rows x 14 columns]"
      ]
     },
     "execution_count": 294,
     "metadata": {},
     "output_type": "execute_result"
    }
   ],
   "source": [
    "(1+c_ret[start:end]).cumprod()"
   ]
  },
  {
   "cell_type": "code",
   "execution_count": 302,
   "metadata": {},
   "outputs": [
    {
     "data": {
      "text/plain": [
       "1.0092490068669608"
      ]
     },
     "execution_count": 302,
     "metadata": {},
     "output_type": "execute_result"
    }
   ],
   "source": [
    "(0.019488 - 0.04557/52*2) / (0.005557 * np.sqrt(10))"
   ]
  },
  {
   "cell_type": "code",
   "execution_count": 301,
   "metadata": {},
   "outputs": [
    {
     "name": "stdout",
     "output_type": "stream",
     "text": [
      "Returns: 1.9488%\n",
      "Daily avg. portfolio return: 0.1946% \n",
      "Daily standard deviation: 0.5557%\n"
     ]
    },
    {
     "data": {
      "image/png": "[encoded data removed]",
      "text/plain": [
       "<Figure size 1080x504 with 1 Axes>"
      ]
     },
     "metadata": {},
     "output_type": "display_data"
    }
   ],
   "source": [
    "u.portfolio_return(c_ret, start, end)"
   ]
  },
  {
   "cell_type": "code",
   "execution_count": 163,
   "metadata": {},
   "outputs": [
    {
     "name": "stderr",
     "output_type": "stream",
     "text": [
      "C:\\Users\\gobel\\AppData\\Roaming\\Python\\Python38\\site-packages\\numpy\\core\\fromnumeric.py:57: RuntimeWarning: invalid value encountered in accumulate\n",
      "  return bound(*args, **kwds)\n",
      "c:\\Users\\gobel\\anaconda3\\lib\\site-packages\\ffn\\core.py:2299: RuntimeWarning: divide by zero encountered in divide\n",
      "  res = np.divide(er.mean(), std)\n",
      "c:\\Users\\gobel\\anaconda3\\lib\\site-packages\\pandas\\core\\arraylike.py:405: RuntimeWarning: divide by zero encountered in log\n",
      "  result = getattr(ufunc, method)(*inputs, **kwargs)\n",
      "c:\\Users\\gobel\\anaconda3\\lib\\site-packages\\pandas\\core\\arraylike.py:405: RuntimeWarning: invalid value encountered in log\n",
      "  result = getattr(ufunc, method)(*inputs, **kwargs)\n"
     ]
    },
    {
     "name": "stdout",
     "output_type": "stream",
     "text": [
      "Stat                 Portfolio    Risky Portfolio    DBC.US      SHEL        CSSMI.SW    WMT         ch          it          rf          EUR         CHF\n",
      "-------------------  -----------  -----------------  ----------  ----------  ----------  ----------  ----------  ----------  ----------  ----------  ----------\n",
      "Start                2017-11-14   2017-11-14         2017-11-14  2017-11-14  2017-11-14  2017-11-14  2017-11-14  2017-11-14  2017-11-14  2017-11-14  2017-11-14\n",
      "End                  2020-11-19   2020-11-19         2020-11-19  2020-11-19  2020-11-19  2020-11-19  2020-11-19  2020-11-19  2020-11-19  2020-11-19  2020-11-19\n",
      "Risk-free rate       5.40%        5.40%              5.40%       5.40%       5.40%       5.40%       5.40%       5.40%       5.40%       5.40%       5.40%\n",
      "\n",
      "Total Return         18.51%       20.68%             -13.62%     -38.37%     25.52%      77.63%      187.85%     -100.00%    -83.40%     0.64%       8.59%\n",
      "Daily Sharpe         0.09         0.14               -0.51       -0.35       0.22        0.68        0.84        -0.13       -0.51       -0.72       -0.35\n",
      "Daily Sortino        0.14         0.21               -0.75       -0.52       0.33        1.19        1.50        -0.30       -0.79       -1.17       -0.59\n",
      "CAGR                 5.80%        6.43%              -4.74%      -14.83%     7.83%       21.00%      42.01%      -100.00%    -44.88%     0.21%       2.77%\n",
      "Max Drawdown         -10.42%      -20.80%            -41.68%     -67.46%     -27.00%     -23.86%     -85.29%     -100.12%    -92.91%     -14.55%     -9.66%\n",
      "Calmar Ratio         0.56         0.31               -0.11       -0.22       0.29        0.88        0.49        -1.00       -0.48       0.01        0.29\n",
      "\n",
      "MTD                  4.85%        9.62%              6.96%       31.24%      9.74%       9.64%       -5.07%      -100.00%    -3.02%      1.94%       0.65%\n",
      "3m                   3.35%        5.44%              0.59%       10.23%      1.64%       14.89%      5.96%       -100.00%    21.07%      0.31%       0.47%\n",
      "6m                   8.65%        15.06%             17.75%      5.29%       7.25%       22.25%      11.09%      -100.00%    -5.87%      8.72%       6.64%\n",
      "YTD                  4.22%        3.41%              -15.17%     -40.94%     1.91%       29.67%      22.16%      -100.00%    -77.89%     5.91%       6.26%\n",
      "1Y                   5.92%        6.25%              -10.01%     -40.68%     4.21%       29.11%      4.87%       -100.00%    -77.23%     7.18%       8.72%\n",
      "3Y (ann.)            5.53%        5.90%              -4.89%      -14.33%     7.24%       18.42%      38.29%      -100.00%    -45.11%     0.40%       2.93%\n",
      "5Y (ann.)            -            -                  -           -           -           -           -           -           -           -           -\n",
      "10Y (ann.)           -            -                  -           -           -           -           -           -           -           -           -\n",
      "Since Incep. (ann.)  5.80%        6.43%              -4.74%      -14.83%     7.83%       21.00%      42.01%      -100.00%    -44.88%     0.21%       2.77%\n",
      "\n",
      "Daily Sharpe         0.09         0.14               -0.51       -0.35       0.22        0.68        0.84        -0.13       -0.51       -0.72       -0.35\n",
      "Daily Sortino        0.14         0.21               -0.75       -0.52       0.33        1.19        1.50        -0.30       -0.79       -1.17       -0.59\n",
      "Daily Mean (ann.)    5.83%        6.99%              -3.42%      -8.36%      9.16%       22.19%      109.46%     -49.27%     -32.34%     0.43%       2.95%\n",
      "Daily Vol (ann.)     6.10%        12.20%             16.90%      39.00%      17.93%      25.07%      124.66%     425.29%     74.03%      6.69%       6.54%\n",
      "Daily Skew           -1.24        -1.24              -1.03       -0.45       -0.91       1.12        1.56        16.51       0.88        -0.19       -0.05\n",
      "Daily Kurt           15.49        15.49              5.95        17.58       16.19       14.96       15.94       413.49      18.62       1.36        1.16\n",
      "Best Day             2.44%        4.86%              4.43%       19.68%      7.83%       11.71%      74.00%      631.25%     43.29%      1.44%       1.41%\n",
      "Worst Day            -3.59%       -7.19%             -7.78%      -17.17%     -10.36%     -10.18%     -31.50%     -200.00%    -27.96%     -2.04%      -1.78%\n",
      "\n",
      "Monthly Sharpe       0.02         0.07               -0.45       -0.59       0.19        0.74        0.76        -0.47       -0.93       -0.88       -0.41\n",
      "Monthly Sortino      0.03         0.11               -0.63       -0.94       0.31        1.26        1.59        -0.76       -1.23       -1.49       -0.68\n",
      "Monthly Mean (ann.)  5.36%        6.03%              -3.16%      -12.37%     7.72%       18.74%      86.40%      -52.88%     -43.28%     0.08%       2.74%\n",
      "Monthly Vol (ann.)   5.61%        11.33%             18.70%      29.85%      13.04%      18.19%      106.09%     123.18%     52.36%      5.89%       6.19%\n",
      "Monthly Skew         0.04         0.12               -0.96       0.97        -0.11       -0.85       0.42        0.14        -0.65       0.63        0.32\n",
      "Monthly Kurt         0.75         0.83               1.43        5.06        0.34        1.71        1.30        1.19        2.42        0.82        0.17\n",
      "Best Month           4.85%        9.62%              8.07%       31.24%      9.74%       9.64%       100.00%     78.97%      32.33%      4.83%       4.60%\n",
      "Worst Month          -3.18%       -6.64%             -17.34%     -20.76%     -7.28%      -15.56%     -57.97%     -100.00%    -51.49%     -3.20%      -3.46%\n",
      "\n",
      "Yearly Sharpe        -0.07        -0.01              -0.71       -0.78       0.14        0.70        2.14        -0.71       -0.89       -1.04       -0.86\n",
      "Yearly Sortino       -0.13        -0.03              -0.94       -0.81       0.40        2.63        inf         -0.92       -0.94       -1.10       -0.99\n",
      "Yearly Mean          5.01%        5.25%              -4.97%      -13.93%     8.04%       18.80%      34.53%      -43.71%     -33.73%     -0.25%      2.30%\n",
      "Yearly Vol           5.66%        11.46%             14.69%      24.68%      19.25%      19.25%      13.63%      69.24%      43.84%      5.44%       3.59%\n",
      "Yearly Skew          0.62         0.70               1.62        -0.97       1.29        -1.73       0.72        1.24        -0.07       1.44        1.08\n",
      "Yearly Kurt          -            -                  -           -           -           -           -           -           -           -           -\n",
      "Best Year            11.03%       17.52%             11.87%      7.46%       29.60%      30.16%      49.15%      33.61%      9.79%       5.91%       6.26%\n",
      "Worst Year           -0.21%       -5.18%             -15.17%     -40.94%     -7.40%      -3.43%      22.16%      -100.00%    -77.89%     -4.40%      -0.74%\n",
      "\n",
      "Avg. Drawdown        -0.80%       -2.05%             -4.56%      -5.44%      -2.39%      -3.59%      -19.65%     -16.06%     -8.99%      -2.39%      -1.80%\n",
      "Avg. Drawdown Days   21.45        46.05              70.13       62.18       32.87       33.60       56.67       82.00       70.60       134.38      81.38\n",
      "Avg. Up Month        1.41%        2.43%              3.78%       4.72%       2.74%       4.99%       26.82%      27.79%      7.84%       1.46%       1.40%\n",
      "Avg. Down Month      -1.25%       -2.91%             -4.79%      -6.79%      -3.07%      -3.23%      -20.26%     -24.89%     -12.76%     -1.15%      -1.41%\n",
      "Win Year %           66.67%       66.67%             33.33%      33.33%      66.67%      66.67%      100.00%     33.33%      33.33%      33.33%      66.67%\n",
      "Win 12m %            88.46%       65.38%             15.38%      30.77%      80.77%      96.15%      76.92%      26.92%      7.69%       23.08%      57.69%\n"
     ]
    },
    {
     "name": "stderr",
     "output_type": "stream",
     "text": [
      "c:\\Users\\gobel\\anaconda3\\lib\\site-packages\\ffn\\core.py:2299: RuntimeWarning: divide by zero encountered in divide\n",
      "  res = np.divide(er.mean(), std)\n",
      "c:\\Users\\gobel\\anaconda3\\lib\\site-packages\\pandas\\core\\arraylike.py:405: RuntimeWarning: divide by zero encountered in log\n",
      "  result = getattr(ufunc, method)(*inputs, **kwargs)\n",
      "c:\\Users\\gobel\\anaconda3\\lib\\site-packages\\pandas\\core\\arraylike.py:405: RuntimeWarning: invalid value encountered in log\n",
      "  result = getattr(ufunc, method)(*inputs, **kwargs)\n"
     ]
    }
   ],
   "source": [
    "perf = (1+c_ret).cumprod().calc_stats()\n",
    "perf.set_riskfree_rate(0.054)\n",
    "perf.display()"
   ]
  },
  {
   "cell_type": "markdown",
   "metadata": {},
   "source": [
    "## Risk Metrics"
   ]
  },
  {
   "cell_type": "code",
   "execution_count": 251,
   "metadata": {},
   "outputs": [
    {
     "name": "stdout",
     "output_type": "stream",
     "text": [
      "The portfolio returns are likely not normal.\n"
     ]
    }
   ],
   "source": [
    "u.check_normality(c_ret.Portfolio)"
   ]
  },
  {
   "cell_type": "code",
   "execution_count": 78,
   "metadata": {},
   "outputs": [
    {
     "data": {
      "text/plain": [
       "Text(0, 0.5, 'Observation Frequency')"
      ]
     },
     "execution_count": 78,
     "metadata": {},
     "output_type": "execute_result"
    },
    {
     "data": {
      "image/png": "[encoded data removed]",
      "text/plain": [
       "<Figure size 432x288 with 1 Axes>"
      ]
     },
     "metadata": {
      "needs_background": "light"
     },
     "output_type": "display_data"
    }
   ],
   "source": [
    "portfolio_VaR = u.value_at_risk(c_ret.Portfolio)\n",
    "portfolio_VaR_return = portfolio_VaR / 100000000\n",
    "\n",
    "plt.hist(c_ret.Portfolio, bins=50)\n",
    "plt.axvline(portfolio_VaR_return, color='red', linestyle='solid')\n",
    "plt.legend(['VaR for Specified Alpha as a Return', 'Historical Returns Distribution'])\n",
    "plt.title('Historical VaR')\n",
    "plt.xlabel('Return')\n",
    "plt.ylabel('Observation Frequency')"
   ]
  },
  {
   "cell_type": "code",
   "execution_count": 79,
   "metadata": {},
   "outputs": [
    {
     "data": {
      "text/plain": [
       "-1235050.1355998723"
      ]
     },
     "execution_count": 79,
     "metadata": {},
     "output_type": "execute_result"
    },
    {
     "data": {
      "image/png": "[encoded data removed]",
      "text/plain": [
       "<Figure size 432x288 with 1 Axes>"
      ]
     },
     "metadata": {
      "needs_background": "light"
     },
     "output_type": "display_data"
    }
   ],
   "source": [
    "# Test the Value at risk for multiple lookbacks to see if they converge on a value\n",
    "\n",
    "N = 1000\n",
    "VaRs = np.zeros((N, 1))\n",
    "for i in range(N):\n",
    "    VaRs[i] = u.value_at_risk(c_ret.Portfolio, lookback_days=i) * np.sqrt(5)\n",
    "\n",
    "plt.plot(VaRs)\n",
    "plt.xlabel('Lookback Window')\n",
    "plt.ylabel('VaR')\n",
    "pd.DataFrame(VaRs)[0].median()"
   ]
  },
  {
   "cell_type": "code",
   "execution_count": 80,
   "metadata": {},
   "outputs": [
    {
     "data": {
      "text/plain": [
       "Text(0, 0.5, 'Observation Frequency')"
      ]
     },
     "execution_count": 80,
     "metadata": {},
     "output_type": "execute_result"
    },
    {
     "data": {
      "image/png": "[encoded data removed]",
      "text/plain": [
       "<Figure size 1080x504 with 1 Axes>"
      ]
     },
     "metadata": {},
     "output_type": "display_data"
    }
   ],
   "source": [
    "value_invested = 100000000\n",
    "portfolio_VaR = u.value_at_risk(c_ret.Portfolio, alpha=0.95, lookback_days=500)\n",
    "portfolio_VaR_return = portfolio_VaR / value_invested\n",
    "\n",
    "portfolio_CVaR = u.es(c_ret.Portfolio, alpha=0.95, lookback_days=500) \n",
    "portfolio_CVaR_return = portfolio_CVaR / value_invested\n",
    "\n",
    "fig, ax = plt.subplots(figsize=(15,7), facecolor='white')\n",
    "plt.hist(c_ret.Portfolio[c_ret.Portfolio > portfolio_VaR_return], bins=20)\n",
    "plt.hist(c_ret.Portfolio[c_ret.Portfolio < portfolio_VaR_return], bins=10)\n",
    "ax.xaxis.set_major_formatter(mtick.PercentFormatter(1.0))\n",
    "plt.axvline(portfolio_VaR_return, color='red', linestyle='solid')\n",
    "plt.axvline(portfolio_CVaR_return, color='red', linestyle='dashed')\n",
    "plt.legend(['VaR for 95% as a Return',\n",
    "            'ES for 95% as a Return',\n",
    "            'Historical Returns Distribution', \n",
    "            'Returns < VaR'])\n",
    "plt.title('Daily historical VaR and ES')\n",
    "plt.xlabel('Return')\n",
    "plt.ylabel('Observation Frequency')"
   ]
  },
  {
   "cell_type": "code",
   "execution_count": 81,
   "metadata": {},
   "outputs": [
    {
     "data": {
      "text/plain": [
       "-1965633.1844800443"
      ]
     },
     "execution_count": 81,
     "metadata": {},
     "output_type": "execute_result"
    },
    {
     "data": {
      "image/png": "[encoded data removed]",
      "text/plain": [
       "<Figure size 432x288 with 1 Axes>"
      ]
     },
     "metadata": {
      "needs_background": "light"
     },
     "output_type": "display_data"
    }
   ],
   "source": [
    "# Get the Expected Shortfall\n",
    "\n",
    "N = 1000\n",
    "expected_shortfall = np.zeros((N, 1))\n",
    "for i in range(N):\n",
    "    expected_shortfall[i] = u.es(c_ret.Portfolio, lookback_days=i) * np.sqrt(5)\n",
    "\n",
    "plt.plot(expected_shortfall)\n",
    "plt.xlabel('Lookback Window')\n",
    "plt.ylabel('VaR')\n",
    "\n",
    "pd.DataFrame(expected_shortfall).median()[0]"
   ]
  },
  {
   "cell_type": "code",
   "execution_count": null,
   "metadata": {},
   "outputs": [],
   "source": []
  },
  {
   "cell_type": "markdown",
   "metadata": {},
   "source": [
    "## Sensitivity"
   ]
  },
  {
   "cell_type": "code",
   "execution_count": 268,
   "metadata": {},
   "outputs": [],
   "source": [
    "from eod import EodHistoricalData\n",
    "\n",
    "API_KEY = '' \n",
    "client = EodHistoricalData(API_KEY)"
   ]
  },
  {
   "cell_type": "code",
   "execution_count": null,
   "metadata": {},
   "outputs": [],
   "source": [
    "indices = ['SPY', 'DBC.US', 'SXXPIEX']\n",
    "\n",
    "for i in indices:\n",
    "    spy = pd.DataFrame(client.get_prices_eod(i, period='d', order='a', from_='2010-01-01'))\n",
    "    spy.set_index(pd.to_datetime(spy.date), inplace=True)\n",
    "    c_ret[i] = spy.close.pct_change()"
   ]
  },
  {
   "cell_type": "code",
   "execution_count": 292,
   "metadata": {},
   "outputs": [],
   "source": [
    "spy = pd.DataFrame(client.get_prices_eod('SPY', period='d', order='a', from_='2010-01-01'))\n",
    "spy.set_index(pd.to_datetime(spy.date), inplace=True)\n",
    "c_ret['SPY'] = spy.close.pct_change()"
   ]
  },
  {
   "cell_type": "code",
   "execution_count": 293,
   "metadata": {},
   "outputs": [
    {
     "data": {
      "text/plain": [
       "0.21466233324348724"
      ]
     },
     "execution_count": 293,
     "metadata": {},
     "output_type": "execute_result"
    }
   ],
   "source": [
    "cov = c_ret.cov()\n",
    "var = c_ret['SPY'].var()\n",
    " \n",
    "cov.loc['Portfolio', 'SPY']/var"
   ]
  },
  {
   "cell_type": "code",
   "execution_count": null,
   "metadata": {},
   "outputs": [],
   "source": []
  }
 ],
 "metadata": {
  "kernelspec": {
   "display_name": "Python 3.8.5 ('base')",
   "language": "python",
   "name": "python3"
  },
  "language_info": {
   "codemirror_mode": {
    "name": "ipython",
    "version": 3
   },
   "file_extension": ".py",
   "mimetype": "text/x-python",
   "name": "python",
   "nbconvert_exporter": "python",
   "pygments_lexer": "ipython3",
   "version": "3.8.5"
  },
  "orig_nbformat": 4,
  "vscode": {
   "interpreter": {
    "hash": "58129760e21edc5bf8eb49a23485ae7971d19d64a184fa957b0d732a36ad2bf9"
   }
  }
 },
 "nbformat": 4,
 "nbformat_minor": 2
}
